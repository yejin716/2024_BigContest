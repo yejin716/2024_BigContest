{
  "cells": [
    {
      "cell_type": "code",
      "execution_count": null,
      "metadata": {
        "id": "K7mUxMUYDZ4l"
      },
      "outputs": [],
      "source": [
        "from selenium import webdriver\n",
        "from selenium.webdriver.common.by import By\n",
        "from selenium.webdriver.support.ui import WebDriverWait\n",
        "from selenium.webdriver.support import expected_conditions as EC\n",
        "\n",
        "# 예외처리\n",
        "from selenium.common.exceptions import NoSuchElementException, StaleElementReferenceException, TimeoutException, NoSuchWindowException, WebDriverException\n",
        "\n",
        "import time\n",
        "import pandas as pd"
      ]
    },
    {
      "cell_type": "code",
      "execution_count": null,
      "metadata": {
        "id": "FyH3ZRu8DZ4v"
      },
      "outputs": [],
      "source": [
        "# 각자 맞게 파일 path 설정\n",
        "file = r\"C:\\Users\\dldpw\\Desktop\\STUDY\\Study\\빅콘테스트\\data\\df2.csv\"\n",
        "\n",
        "# csv 파일 읽기\n",
        "jejuFood_raw = pd.read_csv(file, encoding='utf-8')\n",
        "jejuFood = jejuFood_raw.copy()\n",
        "print(jejuFood.shape)\n",
        "jejuFood.head(5)"
      ]
    },
    {
      "cell_type": "code",
      "execution_count": null,
      "metadata": {
        "id": "UxCkAqp_DZ4x"
      },
      "outputs": [],
      "source": [
        "jejuFood[2000:2001]"
      ]
    },
    {
      "cell_type": "code",
      "execution_count": null,
      "metadata": {
        "id": "ffvP7qQ5DZ42"
      },
      "outputs": [],
      "source": [
        "# 지도에서 원하는 관광지 선택하기 함수\n",
        "def click_spot(dong):\n",
        "    # 원하는 관광지명의 시군구명이 같은 항목 선택하기\n",
        "    addrs = driver.find_elements(By.CLASS_NAME, 'item_address._btnAddress')\n",
        "\n",
        "    # 반복문 돌려서 원하는 구 이름 찾으면 선택하기\n",
        "    for i, addr in enumerate(addrs):\n",
        "        try:\n",
        "            # 제주 음식점이면\n",
        "            if ('제주시' in addr.text) or ('서귀포시' in addr.text):\n",
        "                button = WebDriverWait(driver, 3).until(EC.element_to_be_clickable((By.CSS_SELECTOR, f'#ct > div.search_listview._content._ctList > ul > li:nth-child({i+1}) > div.item_info > div.item_info_inn > div > a')))\n",
        "                button.click()\n",
        "\n",
        "                # 지번으로 읍면동 맞는지 확인\n",
        "                지번 = driver.find_element(By.CSS_SELECTOR, f'#ct > div.search_listview._content._ctList > ul > li:nth-child({i+1}) > div.item_info > div.wrap_bx_address._addressBox > div > p:nth-child(2)').text\n",
        "                if dong in 지번:\n",
        "                    # 찾고 있는 관광지 클릭 준비\n",
        "                    spot_button = WebDriverWait(driver, 3).until(EC.element_to_be_clickable((By.CSS_SELECTOR, f'#ct > div.search_listview._content._ctList > ul > li:nth-child({i+1}) > div.item_info > a.a_item.a_item_distance._linkSiteview')))\n",
        "                    break\n",
        "                else:\n",
        "                    continue\n",
        "            else:\n",
        "                continue\n",
        "        except:\n",
        "            print('해당 관광지 없음.')\n",
        "\n",
        "    return spot_button"
      ]
    },
    {
      "cell_type": "code",
      "execution_count": null,
      "metadata": {
        "id": "L2VxLEUaDZ43"
      },
      "outputs": [],
      "source": [
        "# 카테고리 추출 후, 리뷰 탭 선택하기 함수\n",
        "def click_reviewTab():\n",
        "    tabs = driver.find_elements(By.CSS_SELECTOR, 'a.tpj9w._tab-menu > span.veBoZ')\n",
        "    for i, tab in enumerate(tabs):\n",
        "        try:\n",
        "            if '리뷰' in tab.text:\n",
        "                button = WebDriverWait(driver, 3).until(EC.element_to_be_clickable((By.CSS_SELECTOR, f'div.place_fixed_maintab > div > div > div > div > a:nth-child({i+1})')))\n",
        "                break\n",
        "            else:\n",
        "                continue\n",
        "        except:\n",
        "            print('리뷰 탭 없음.')\n",
        "\n",
        "    return button"
      ]
    },
    {
      "cell_type": "code",
      "execution_count": null,
      "metadata": {
        "id": "eS2JEXJSDZ44"
      },
      "outputs": [],
      "source": [
        "# 리뷰 크롤링\n",
        "def get_reviews(spot, addr, naver_name, category, review_k, review_list):\n",
        "    reviews = driver.find_elements(By.CSS_SELECTOR, 'div.place_section.k1QQ5 > div > ul > li')\n",
        "\n",
        "    if len(reviews) <= 100:\n",
        "        reviews_num = len(reviews)\n",
        "    else:\n",
        "        reviews_num = 100\n",
        "\n",
        "    contexts = \"\"\n",
        "\n",
        "    for i in range(0, reviews_num):\n",
        "        try:\n",
        "            # 예약유무 항목 확인\n",
        "            reservation = driver.find_element(By.CSS_SELECTOR, f'div.place_section.k1QQ5 > div > ul > li:nth-child({i+1}) > div.pui__-0Ter1 > a > span:nth-child(1) > em').text\n",
        "            contexts += (reservation + \" \")\n",
        "        except:\n",
        "            # 예약유무 없으면 패스\n",
        "            print('예약유무 항목이 없습니다.')\n",
        "\n",
        "        try:\n",
        "            # 대기시간 항목 확인\n",
        "            waiting = driver.find_element(By.CSS_SELECTOR, f'div.place_section.k1QQ5 > div > ul > li:nth-child({i+1}) > div.pui__-0Ter1 > a > span:nth-child(2) > em').text\n",
        "            contexts += (waiting + \" \")\n",
        "\n",
        "        except:\n",
        "            # 대기시간 없으면 패스\n",
        "            print('대기시간 항목이 없습니다.')\n",
        "\n",
        "        try:\n",
        "            # 목적 항목 확인\n",
        "            purpose = driver.find_element(By.CSS_SELECTOR, f'div.place_section.k1QQ5 > div > ul > li:nth-child({i+1}) > div.pui__-0Ter1 > a > span:nth-child(3) > em').text\n",
        "            contexts += (purpose + \" \")\n",
        "        except:\n",
        "            # 목적 없으면 패스\n",
        "            print('목적 항목이 없습니다.')\n",
        "\n",
        "        try:\n",
        "            # 구성원 항목 확인\n",
        "            member = driver.find_element(By.CSS_SELECTOR, f'div.place_section.k1QQ5 > div > ul > li:nth-child({i+1}) > div.pui__-0Ter1 > a > span:nth-child(4) > em').text\n",
        "            contexts += (member + \" \")\n",
        "        except:\n",
        "            # 구성원 없으면 패스\n",
        "            print('구성원 항목이 없습니다.')\n",
        "\n",
        "        try:\n",
        "            # 리뷰 항목 확인\n",
        "            context = driver.find_element(By.CSS_SELECTOR, f'div.place_section.k1QQ5 > div > ul > li:nth-child({i+1}) > div.pui__vn15t2 > a.pui__xtsQN-').text\n",
        "            contexts += (context + \" / \")\n",
        "        except:\n",
        "            # 리뷰 없으면 패스\n",
        "            print('리뷰 항목이 없습니다.')\n",
        "\n",
        "    # 네이버 리뷰 내용 추가\n",
        "    review_list.append({'name':spot, 'address':addr, 'NAVER_name':naver_name, 'category':category, 'review_num':review_k, 'reviews':contexts})\n",
        "\n",
        "    return review_list\n",
        "\n"
      ]
    },
    {
      "cell_type": "code",
      "execution_count": null,
      "metadata": {
        "collapsed": true,
        "id": "NVoMEN2VDZ47"
      },
      "outputs": [],
      "source": [
        "# 에러 안 난 결과 리스트\n",
        "results = []\n",
        "# 에러 난 결과 리스트\n",
        "errors = []\n",
        "\n",
        "# 사용할 DF\n",
        "df = jejuFood\n",
        "\n",
        "# 웹 드라이버 실행\n",
        "driver = webdriver.Chrome()\n",
        "# 웹 드라이버 최대화\n",
        "driver.maximize_window()\n",
        "\n",
        "# 반복문으로 음식점 크롤링 진행하기\n",
        "for i in range(2000, 2501):\n",
        "    # 관광지명 가져오기\n",
        "    spot = df.iloc[i, 0]\n",
        "    # 주소 가져오기\n",
        "    addr = df.iloc[i, 2]\n",
        "    # 동 이름 가져오기\n",
        "    dong = addr.split()[2]\n",
        "\n",
        "    try:\n",
        "        # spot 찾기\n",
        "        driver.get(f\"https://m.map.naver.com/search2/search.naver?query={spot}\")\n",
        "        time.sleep(2)\n",
        "        print('-'*20, i+1, ':', spot, f'({dong})', '-'*20)\n",
        "\n",
        "        # 해당 음식점 클릭\n",
        "        button = click_spot(dong)\n",
        "        if button != None:\n",
        "            button.click()\n",
        "            time.sleep(3)\n",
        "\n",
        "            # 네이버 음식점명 가져오기\n",
        "            naver_name = WebDriverWait(driver, 3).until(EC.visibility_of_element_located((By.CLASS_NAME, 'GHAhO'))).text\n",
        "            print(naver_name)\n",
        "\n",
        "            # 카테고리 가져오기\n",
        "            category = WebDriverWait(driver, 3).until(EC.visibility_of_element_located((By.CLASS_NAME, 'lnJFt'))).text\n",
        "            print(category)\n",
        "\n",
        "            # 리뷰 탭 클릭\n",
        "            button = click_reviewTab()\n",
        "            if button != None:\n",
        "                button.click()\n",
        "                time.sleep(3)\n",
        "\n",
        "                # 리뷰개수 가져오기\n",
        "                review_k = driver.find_element(By.CLASS_NAME, 'place_section_count')\n",
        "                if review_k:\n",
        "                    print(review_k.text)\n",
        "                    review_k = review_k.text\n",
        "                else:\n",
        "                    print('해당 클래스 없음')\n",
        "\n",
        "                # 리뷰항목 더보기 누르기\n",
        "                total_num = 0\n",
        "\n",
        "                while True:\n",
        "                    if total_num < 100:\n",
        "                        reviews = driver.find_elements(By.CSS_SELECTOR, 'div.place_section.k1QQ5 > div > ul > li')\n",
        "                        total_num = len(reviews)\n",
        "\n",
        "                        try:\n",
        "                            # 더보기 버튼 찾기\n",
        "                            button = WebDriverWait(driver, 3).until(EC.element_to_be_clickable((By.CLASS_NAME, 'fvwqf')))\n",
        "                            driver.execute_script(\"arguments[0].scrollIntoView({block: 'center'});\", button)\n",
        "                            time.sleep(3)\n",
        "                            button.click()\n",
        "                            time.sleep(2)\n",
        "\n",
        "                        except:\n",
        "                            print('더보기 버튼이 더이상 없습니다.')\n",
        "                            break\n",
        "                    else:\n",
        "                        break\n",
        "\n",
        "                results = get_reviews(spot, addr, naver_name, category, review_k, results)\n",
        "                print(results)\n",
        "\n",
        "            else:\n",
        "                print('\"리뷰 탭\"이 없어서 다음으로 넘어갑니다.')\n",
        "\n",
        "        else:\n",
        "            print('\"해당 음식점\"이 없어서 다음으로 넘어갑니다.')\n",
        "\n",
        "    except:\n",
        "        print('해당 spot을 찾을 수 없습니다.')\n",
        "        errors.append(spot)\n",
        "\n",
        "driver.quit()\n",
        "\n",
        "\n"
      ]
    },
    {
      "cell_type": "code",
      "execution_count": null,
      "metadata": {
        "id": "yGCul-kpDZ49"
      },
      "outputs": [],
      "source": [
        "# 크롤링된 음식점 df\n",
        "results_df = pd.DataFrame(results)\n",
        "results_df.to_csv(r\"C:\\Users\\dldpw\\Desktop\\STUDY\\Study\\빅콘테스트\\data\\df_6.csv\", encoding='utf-8', index=0)"
      ]
    },
    {
      "cell_type": "code",
      "execution_count": null,
      "metadata": {
        "id": "xf1HhiperDzt"
      },
      "outputs": [],
      "source": [
        "# 크롤링된 음식점 df\n",
        "results_df = pd.DataFrame(results)\n",
        "results_df.to_csv(r\"C:\\Users\\dldpw\\Desktop\\STUDY\\Study\\빅콘테스트\\data\\df_6_1.csv\", encoding='utf-8', index=0)"
      ]
    }
  ],
  "metadata": {
    "colab": {
      "provenance": []
    },
    "kernelspec": {
      "display_name": "base",
      "language": "python",
      "name": "python3"
    },
    "language_info": {
      "codemirror_mode": {
        "name": "ipython",
        "version": 3
      },
      "file_extension": ".py",
      "mimetype": "text/x-python",
      "name": "python",
      "nbconvert_exporter": "python",
      "pygments_lexer": "ipython3",
      "version": "3.12.4"
    }
  },
  "nbformat": 4,
  "nbformat_minor": 0
}