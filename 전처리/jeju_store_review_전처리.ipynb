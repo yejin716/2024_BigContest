{
  "nbformat": 4,
  "nbformat_minor": 0,
  "metadata": {
    "colab": {
      "provenance": [],
      "gpuType": "L4"
    },
    "kernelspec": {
      "name": "python3",
      "display_name": "Python 3"
    },
    "language_info": {
      "name": "python"
    },
    "accelerator": "GPU"
  },
  "cells": [
    {
      "cell_type": "code",
      "execution_count": null,
      "metadata": {
        "id": "gxMOd42yIGob"
      },
      "outputs": [],
      "source": [
        "import pandas as pd\n",
        "import numpy as np\n",
        "import matplotlib.pyplot as plt\n",
        "\n",
        "path = '/content/drive/MyDrive/빅콘테스트/01.데이터수집 및 탐색/code/Crawling/예진/data/df2_all.csv'\n",
        "\n",
        "raw = pd.read_csv(path, index_col=0)\n",
        "df = raw.copy()"
      ]
    },
    {
      "cell_type": "code",
      "source": [
        "df.head()"
      ],
      "metadata": {
        "id": "rADCbeYZI1O1"
      },
      "execution_count": null,
      "outputs": []
    },
    {
      "cell_type": "code",
      "source": [
        "df.info()"
      ],
      "metadata": {
        "id": "y6Uw4m8WI1yq"
      },
      "execution_count": null,
      "outputs": []
    },
    {
      "cell_type": "code",
      "source": [
        "df['reviews']"
      ],
      "metadata": {
        "id": "sHjysrS7I3cW"
      },
      "execution_count": null,
      "outputs": []
    },
    {
      "cell_type": "code",
      "source": [
        "df[['reviews']][:5]"
      ],
      "metadata": {
        "id": "otF00ULWOH5K"
      },
      "execution_count": null,
      "outputs": []
    },
    {
      "cell_type": "code",
      "source": [
        "# 'review' 열에서 '], ['를 기준으로 문자열 분리\n",
        "def split_reviews(review_str):\n",
        "    # 문자열에서 ' / '를 기준으로 분리한 후, 앞뒤의 대괄호 제거\n",
        "    if isinstance(review_str, str):\n",
        "        parts = review_str.split(' / ')\n",
        "        return parts\n",
        "    else:\n",
        "        return []\n",
        "# 'review' 열에 함수 적용\n",
        "df['reviews'] = df['reviews'].apply(split_reviews)"
      ],
      "metadata": {
        "id": "gJzOCePNMGWr"
      },
      "execution_count": null,
      "outputs": []
    },
    {
      "cell_type": "code",
      "source": [
        "df[['reviews']]"
      ],
      "metadata": {
        "id": "m27YI5_lNXP3"
      },
      "execution_count": null,
      "outputs": []
    },
    {
      "cell_type": "code",
      "source": [
        "# 각 리뷰를 별도의 행으로 변환하는 함수 정의\n",
        "def explode_reviews(df):\n",
        "    # DataFrame의 각 행에 대해 'review' 열을 열의 요소로 분리하여 새로운 행 생성\n",
        "    return df.explode('reviews')\n",
        "\n",
        "# 변환 적용\n",
        "expanded_jeju_data = explode_reviews(df)\n",
        "expanded_jeju_data"
      ],
      "metadata": {
        "id": "2DWR9DIJNhK5"
      },
      "execution_count": null,
      "outputs": []
    },
    {
      "cell_type": "code",
      "source": [
        "# expanded_jeju_data.to_csv('/content/drive/MyDrive/빅콘테스트/01.데이터수집 및 탐색/code/Crawling/예진/data/expanded_df2.csv', index=0)"
      ],
      "metadata": {
        "id": "bUodjp7uOr7f"
      },
      "execution_count": null,
      "outputs": []
    },
    {
      "cell_type": "markdown",
      "source": [
        "### 이용방법\n",
        "- 예약 없이 이용 / 예약 후 이용 / 포장·배달 이용  \n",
        "### 대기시간\n",
        "- 바로입장 / 10분 이내 / 30분 이내 / 30분 이상 / 1시간 이상 / 2시간 이상\n",
        "### 방문목적 (중복가능)\n",
        "- 데이트 / 친목 / 나들이 / 여행 / 일상 / 기념일 / 회식 / 가족모임 / 비즈니스\n",
        "### 동행자 (중복가능)\n",
        "- 연인・배우자 / 친구 / 지인・동료 / 혼자 / 아이 / 부모님 / 반려동물 / 친척・형제 / 기타"
      ],
      "metadata": {
        "id": "TmYTLx-urJdV"
      }
    },
    {
      "cell_type": "code",
      "source": [
        "df = pd.read_csv('/content/drive/MyDrive/빅콘테스트/01.데이터수집 및 탐색/code/Crawling/예진/data/expanded_df2.csv')"
      ],
      "metadata": {
        "id": "k8nMLnQwSWzV"
      },
      "execution_count": null,
      "outputs": []
    },
    {
      "cell_type": "code",
      "source": [
        "df['reviews']"
      ],
      "metadata": {
        "id": "g8CKToaNQQmU"
      },
      "execution_count": null,
      "outputs": []
    },
    {
      "cell_type": "code",
      "source": [
        "df['reviews'] = df['reviews'].str.lstrip()"
      ],
      "metadata": {
        "id": "43zONdghggYI"
      },
      "execution_count": null,
      "outputs": []
    },
    {
      "cell_type": "code",
      "source": [
        "df = df[~df['reviews'].isna()]"
      ],
      "metadata": {
        "id": "w3yUsaaJZwt0"
      },
      "execution_count": null,
      "outputs": []
    },
    {
      "cell_type": "code",
      "source": [
        "df['이용방법'] = df['reviews'].str[:8]\n",
        "df['이용방법']"
      ],
      "metadata": {
        "id": "UQ3KbvRyS7jJ"
      },
      "execution_count": null,
      "outputs": []
    },
    {
      "cell_type": "code",
      "source": [
        "df['이용방법'].unique()"
      ],
      "metadata": {
        "id": "6GrmgN2VTd24"
      },
      "execution_count": null,
      "outputs": []
    },
    {
      "cell_type": "code",
      "source": [
        "df['이용방법'] = df['이용방법'].replace('예약 후 이용 ', '예약 후 이용')"
      ],
      "metadata": {
        "id": "JE80or_OTjaV"
      },
      "execution_count": null,
      "outputs": []
    },
    {
      "cell_type": "code",
      "source": [
        "df['이용방법'].unique()"
      ],
      "metadata": {
        "id": "gfe847i7TsdK"
      },
      "execution_count": null,
      "outputs": []
    },
    {
      "cell_type": "code",
      "source": [
        "df[df['이용방법'] == '포장·배달 이용']"
      ],
      "metadata": {
        "id": "YFCwqv6xT1sD"
      },
      "execution_count": null,
      "outputs": []
    },
    {
      "cell_type": "code",
      "source": [
        "# '이용방법' 컬럼에서 지정된 값 외의 모든 값을 NaN으로 변경\n",
        "df['이용방법'] = np.where(df['이용방법'].isin(['예약 없이 이용', '예약 후 이용', '포장·배달 이용']),\n",
        "                         df['이용방법'], np.nan)\n",
        "df['이용방법']"
      ],
      "metadata": {
        "id": "MYjHFg_DR-9a"
      },
      "execution_count": null,
      "outputs": []
    },
    {
      "cell_type": "code",
      "source": [
        "df['이용방법'].unique()"
      ],
      "metadata": {
        "id": "_HCVMpb2T-EO"
      },
      "execution_count": null,
      "outputs": []
    },
    {
      "cell_type": "code",
      "source": [
        "strings_to_remove = [\"예약 없이 이용\", \"예약 후 이용\", \"포장·배달 이용\"]\n",
        "\n",
        "# 각 문자열을 대체하여 삭제\n",
        "for string in strings_to_remove:\n",
        "    df['reviews'] = df['reviews'].str.replace(string, '', regex=False)\n",
        "\n",
        "# 결과 출력\n",
        "df"
      ],
      "metadata": {
        "id": "6AsXaH8sVGk4"
      },
      "execution_count": null,
      "outputs": []
    },
    {
      "cell_type": "markdown",
      "source": [
        "###대기시간\n",
        "바로 입장 / 10분 이내 / 30분 이내 / 30분 이상 / 1시간 이상 / 2시간 이상"
      ],
      "metadata": {
        "id": "-Aje3ulOUP25"
      }
    },
    {
      "cell_type": "code",
      "source": [
        "df['대기시간'] = df['reviews'].str[:7]"
      ],
      "metadata": {
        "id": "gQAGCoHOVh9N"
      },
      "execution_count": null,
      "outputs": []
    },
    {
      "cell_type": "code",
      "source": [
        "df['대기시간']"
      ],
      "metadata": {
        "id": "d7yzBFZRWHKU"
      },
      "execution_count": null,
      "outputs": []
    },
    {
      "cell_type": "code",
      "source": [
        "df['대기시간'].unique()"
      ],
      "metadata": {
        "id": "9MGSwCrzadwn"
      },
      "execution_count": null,
      "outputs": []
    },
    {
      "cell_type": "code",
      "source": [
        "df['대기시간'] = df['대기시간'].str.lstrip()"
      ],
      "metadata": {
        "id": "KcJrLmQVt6Nd"
      },
      "execution_count": null,
      "outputs": []
    },
    {
      "cell_type": "code",
      "source": [
        "df['대기시간'] = df['대기시간'].apply(lambda x: '바로 입장' if '바로 입장' in x else x.strip())\n",
        "df['대기시간'] = df['대기시간'].apply(lambda x: '10분 이내' if '10분 이내' in x else x.strip())\n",
        "df['대기시간'] = df['대기시간'].apply(lambda x: '30분 이내' if '30분 이내' in x else x.strip())\n",
        "df['대기시간'] = df['대기시간'].apply(lambda x: '30분 이상' if '30분 이상' in x else x.strip())\n",
        "df['대기시간'] = df['대기시간'].apply(lambda x: '1시간 이상' if '1시간 이상' in x else x.strip())\n",
        "df['대기시간'] = df['대기시간'].apply(lambda x: '2시간 이상' if '2시간 이상' in x else x.strip())\n",
        "\n",
        "df['대기시간']"
      ],
      "metadata": {
        "id": "PtIcrYwkg08T"
      },
      "execution_count": null,
      "outputs": []
    },
    {
      "cell_type": "code",
      "source": [
        "print(df['대기시간'].unique())"
      ],
      "metadata": {
        "collapsed": true,
        "id": "sH4DCKesVzJY"
      },
      "execution_count": null,
      "outputs": []
    },
    {
      "cell_type": "code",
      "source": [
        "df[df['대기시간'] == ' 10분 이내']['대기시간']\n"
      ],
      "metadata": {
        "id": "LUXqSfpAbITO"
      },
      "execution_count": null,
      "outputs": []
    },
    {
      "cell_type": "code",
      "source": [
        "df[df['대기시간'].str.contains('바로 입장', na=False)]['대기시간'].unique()"
      ],
      "metadata": {
        "id": "FRtO-4IcaoVL"
      },
      "execution_count": null,
      "outputs": []
    },
    {
      "cell_type": "code",
      "source": [
        "df[df['대기시간'].str.contains('2시간 이상', na=False)]['대기시간'].unique()"
      ],
      "metadata": {
        "id": "WjuclMHSdCAS"
      },
      "execution_count": null,
      "outputs": []
    },
    {
      "cell_type": "code",
      "source": [
        "# '대기시간'에서 '바로 입장'이 포함된 경우 해당 값을 '바로 입장'으로 변경\n",
        "df.loc[df['대기시간'].str.contains('바로 입장', na=False), '대기시간'] = '바로 입장'"
      ],
      "metadata": {
        "id": "Qp72CCeacZ-L"
      },
      "execution_count": null,
      "outputs": []
    },
    {
      "cell_type": "code",
      "source": [
        "df[df['대기시간'].str.contains('바로 입장', na=False)]['대기시간'].unique()"
      ],
      "metadata": {
        "id": "VJcOQkt5cqJl"
      },
      "execution_count": null,
      "outputs": []
    },
    {
      "cell_type": "code",
      "source": [
        "df['대기시간'].unique()"
      ],
      "metadata": {
        "id": "iSpuUOVDcsqu"
      },
      "execution_count": null,
      "outputs": []
    },
    {
      "cell_type": "code",
      "source": [
        "# '이용방법' 컬럼에서 지정된 값 외의 모든 값을 NaN으로 변경\n",
        "df['대기시간'] = np.where(df['대기시간'].isin(['바로 입장', '10분 이내', '30분 이내', '30분 이상', '1시간 이상', '2시간 이상']),\n",
        "                         df['대기시간'], np.nan)\n",
        "df['대기시간']"
      ],
      "metadata": {
        "id": "rPIu2zGFZnIw"
      },
      "execution_count": null,
      "outputs": []
    },
    {
      "cell_type": "code",
      "source": [
        "df['대기시간'].unique()"
      ],
      "metadata": {
        "id": "BVmJDDFad4Xd"
      },
      "execution_count": null,
      "outputs": []
    },
    {
      "cell_type": "code",
      "source": [
        "df.head()"
      ],
      "metadata": {
        "id": "5zjl0RKmeBPD"
      },
      "execution_count": null,
      "outputs": []
    },
    {
      "cell_type": "code",
      "source": [
        "strings_to_remove = ['10분 이내', '30분 이내', '1시간 이상', '30분 이상', '2시간 이상']\n",
        "\n",
        "# 각 문자열을 대체하여 삭제\n",
        "for string in strings_to_remove:\n",
        "    df['reviews'] = df['reviews'].str.replace(string, '', regex=False)\n",
        "\n",
        "# 결과 출력\n",
        "df"
      ],
      "metadata": {
        "id": "A2gpxvrneAaC"
      },
      "execution_count": null,
      "outputs": []
    },
    {
      "cell_type": "code",
      "source": [
        "# '대기시간'이 '바로 입장'인 경우 'reviews'에서 6번째 인덱스 이후의 문자열을 잘라내고, 이를 전체 df의 'reviews'에 적용\n",
        "mask = df['대기시간'] == '바로 입장'\n",
        "df.loc[mask, 'reviews'] = df.loc[mask, 'reviews'].str.slice(start=6)\n",
        "\n",
        "# 결과 출력\n",
        "df"
      ],
      "metadata": {
        "id": "FIBs6CHUeXmU"
      },
      "execution_count": null,
      "outputs": []
    },
    {
      "cell_type": "code",
      "source": [
        "df['reviews'] = df['reviews'].str.lstrip()"
      ],
      "metadata": {
        "id": "kywuvOcIhv5L"
      },
      "execution_count": null,
      "outputs": []
    },
    {
      "cell_type": "markdown",
      "source": [
        "### 방문목적 (중복가능)\n",
        "- 데이트 / 친목 / 나들이 / 여행 / 일상 / 기념일 / 회식 / 가족모임 / 비즈니스"
      ],
      "metadata": {
        "id": "70KtMNajfMMj"
      }
    },
    {
      "cell_type": "code",
      "source": [
        "df['방문목적'] = df['reviews'].str[:5]\n",
        "df['방문목적']"
      ],
      "metadata": {
        "id": "YZQhnk4OfgJR"
      },
      "execution_count": null,
      "outputs": []
    },
    {
      "cell_type": "code",
      "source": [
        "df['reviews'] = df['reviews'].str.lstrip()\n",
        "df['방문목적'] = df['방문목적'].str.strip()\n"
      ],
      "metadata": {
        "id": "3iq-XP4Hui4_"
      },
      "execution_count": null,
      "outputs": []
    },
    {
      "cell_type": "code",
      "source": [
        "df[df['방문목적'] == '가족모임']"
      ],
      "metadata": {
        "id": "zO_Yf6Khxp2j"
      },
      "execution_count": null,
      "outputs": []
    },
    {
      "cell_type": "code",
      "source": [
        "df['방문목적'].unique()"
      ],
      "metadata": {
        "id": "lOaLvdXefqgT"
      },
      "execution_count": null,
      "outputs": []
    },
    {
      "cell_type": "code",
      "source": [
        "df[df['방문목적'].str.contains('친목', na=False)]"
      ],
      "metadata": {
        "id": "l1VLmUwZfz85"
      },
      "execution_count": null,
      "outputs": []
    },
    {
      "cell_type": "markdown",
      "source": [
        "데이트 / 친목 / 나들이 / 여행 / 일상 / 기념일 / 회식 / 가족모임 / 비즈니스"
      ],
      "metadata": {
        "id": "AxOAXMFWh481"
      }
    },
    {
      "cell_type": "code",
      "source": [
        "# df['방문목적'] = df['방문목적'].apply(lambda x: '데이트, 여행' if '데이트, 여행' in x else x.strip())\n",
        "# df['방문목적'] = df['방문목적'].apply(lambda x: '데이트, 일상' if '데이트, 일상' in x else x.strip())\n",
        "df['방문목적'] = df['방문목적'].apply(lambda x: '데이트' if x.startswith('데이트') else x.strip())\n",
        "df['방문목적'] = df['방문목적'].apply(lambda x: '친목' if x.startswith('친목') else x.strip())\n",
        "df['방문목적'] = df['방문목적'].apply(lambda x: '나들이' if x.startswith('나들이') else x.strip())\n",
        "df['방문목적'] = df['방문목적'].apply(lambda x: '여행' if x.startswith('여행') else x.strip())\n",
        "df['방문목적'] = df['방문목적'].apply(lambda x: '일상' if x.startswith('일상') else x.strip())\n",
        "df['방문목적'] = df['방문목적'].apply(lambda x: '기념일' if x.startswith('기념일') else x.strip())\n",
        "df['방문목적'] = df['방문목적'].apply(lambda x: '회식' if x.startswith('회식') else x.strip())\n",
        "df['방문목적'] = df['방문목적'].apply(lambda x: '가족모임' if x.startswith('가족모임') else x.strip())\n",
        "df['방문목적'] = df['방문목적'].apply(lambda x: '비즈니스' if x.startswith('비즈니스') else x.strip())\n",
        "df['방문목적']"
      ],
      "metadata": {
        "id": "ubN4WspOftAM"
      },
      "execution_count": null,
      "outputs": []
    },
    {
      "cell_type": "code",
      "source": [
        "df[df['방문목적'] == '가족모임']"
      ],
      "metadata": {
        "id": "v49J5PxbyUGa"
      },
      "execution_count": null,
      "outputs": []
    },
    {
      "cell_type": "code",
      "source": [
        "# '이용방법' 컬럼에서 지정된 값 외의 모든 값을 NaN으로 변경\n",
        "df['방문목적'] = np.where(df['방문목적'].isin(['데이트', '친목', '나들이', '여행', '일상', '기념일', '회식', '가족모임','비즈니스']),\n",
        "                         df['방문목적'], np.nan)\n",
        "df['방문목적']\n",
        "df['방문목적'].unique()"
      ],
      "metadata": {
        "id": "dMgm55jFngQN"
      },
      "execution_count": null,
      "outputs": []
    },
    {
      "cell_type": "code",
      "source": [
        "df['방문목적'].unique()"
      ],
      "metadata": {
        "id": "cOC2RId6n0yc"
      },
      "execution_count": null,
      "outputs": []
    },
    {
      "cell_type": "code",
      "source": [
        "df.loc[df['방문목적'].notnull(), 'reviews'] = df.loc[df['방문목적'].notnull(), 'reviews'].str.slice(start=3)\n",
        "df.reviews"
      ],
      "metadata": {
        "id": "s0Y1qX-ImDqn"
      },
      "execution_count": null,
      "outputs": []
    },
    {
      "cell_type": "code",
      "source": [
        "df['reviews'] = df['reviews'].str.lstrip()\n",
        "df['reviews']"
      ],
      "metadata": {
        "id": "JK16nw0cmA7X"
      },
      "execution_count": null,
      "outputs": []
    },
    {
      "cell_type": "code",
      "source": [
        "df[df['reviews'].str.startswith(',', na=False)]\n",
        "df.loc[df['reviews'].str.startswith(',', na=False), 'reviews'] = df['reviews'].str.lstrip(',')\n",
        "df[df['reviews'].str.startswith(',', na=False)]"
      ],
      "metadata": {
        "id": "rRTPOF-2vvor"
      },
      "execution_count": null,
      "outputs": []
    },
    {
      "cell_type": "code",
      "source": [
        "df['reviews'] = df['reviews'].str.lstrip()"
      ],
      "metadata": {
        "id": "QQZN4B5hwS11"
      },
      "execution_count": null,
      "outputs": []
    },
    {
      "cell_type": "code",
      "source": [
        "df['방문목적_2'] = df.loc[df['방문목적'].notnull(), 'reviews'].str[:6]\n",
        "df['방문목적_2']"
      ],
      "metadata": {
        "id": "k_Tq8HOhnE7G"
      },
      "execution_count": null,
      "outputs": []
    },
    {
      "cell_type": "code",
      "source": [
        "df['방문목적_2'] = df['방문목적_2'].str.strip()\n",
        "df[df['방문목적_2'].str.contains('여행 ', na=False)]"
      ],
      "metadata": {
        "id": "mobDFjUryzuT"
      },
      "execution_count": null,
      "outputs": []
    },
    {
      "cell_type": "code",
      "source": [
        "df['방문목적_2'] = df['방문목적_2'].apply(lambda x: '데이트' if isinstance(x, str) and '데이트' in x else x if pd.isnull(x) else x.strip())\n",
        "df['방문목적_2'] = df['방문목적_2'].apply(lambda x: '친목' if isinstance(x, str) and '친목' in x else x if pd.isnull(x) else x.strip())\n",
        "df['방문목적_2'] = df['방문목적_2'].apply(lambda x: '나들이' if isinstance(x, str) and '나들이' in x else x if pd.isnull(x) else x.strip())\n",
        "df['방문목적_2'] = df['방문목적_2'].apply(lambda x: '여행' if isinstance(x, str) and '여행' in x else x if pd.isnull(x) else x.strip())\n",
        "df['방문목적_2'] = df['방문목적_2'].apply(lambda x: '일상' if isinstance(x, str) and '일상' in x else x if pd.isnull(x) else x.strip())\n",
        "df['방문목적_2'] = df['방문목적_2'].apply(lambda x: '기념일' if isinstance(x, str) and '기념일' in x else x if pd.isnull(x) else x.strip())\n",
        "df['방문목적_2'] = df['방문목적_2'].apply(lambda x: '회식' if isinstance(x, str) and '회식' in x else x if pd.isnull(x) else x.strip())\n",
        "df['방문목적_2'] = df['방문목적_2'].apply(lambda x: '가족모임' if isinstance(x, str) and '가족모임' in x else x if pd.isnull(x) else x.strip())\n",
        "df['방문목적_2'] = df['방문목적_2'].apply(lambda x: '비즈니스' if isinstance(x, str) and '비즈니스' in x else x if pd.isnull(x) else x.strip())\n",
        "df['방문목적_2']"
      ],
      "metadata": {
        "id": "egY_FrrJnQf5"
      },
      "execution_count": null,
      "outputs": []
    },
    {
      "cell_type": "code",
      "source": [
        "# '이용방법' 컬럼에서 지정된 값 외의 모든 값을 NaN으로 변경\n",
        "df['방문목적_2'] = np.where(df['방문목적_2'].isin(['데이트', '친목', '나들이', '여행', '일상', '기념일', '회식', '가족모임','비즈니스']),\n",
        "                         df['방문목적_2'], np.nan)\n",
        "df['방문목적_2']"
      ],
      "metadata": {
        "id": "UWHSKy5Un5Fk"
      },
      "execution_count": null,
      "outputs": []
    },
    {
      "cell_type": "code",
      "source": [
        "df['방문목적_2'].unique()"
      ],
      "metadata": {
        "id": "GNXQUPBSwc_F"
      },
      "execution_count": null,
      "outputs": []
    },
    {
      "cell_type": "code",
      "source": [
        "df.loc[df['방문목적_2'].notnull(), 'reviews'] = df.loc[df['방문목적_2'].notnull(), 'reviews'].str.slice(start=3)\n",
        "df.reviews"
      ],
      "metadata": {
        "id": "xU9qnCdGsNoF"
      },
      "execution_count": null,
      "outputs": []
    },
    {
      "cell_type": "code",
      "source": [
        "df['방문목적_3'] = df.loc[df['방문목적_2'].notnull(), 'reviews'].str[:6]\n",
        "df['방문목적_3']"
      ],
      "metadata": {
        "id": "h2IfLueDsRbM"
      },
      "execution_count": null,
      "outputs": []
    },
    {
      "cell_type": "code",
      "source": [
        "df['방문목적_3'] = df['방문목적_3'].str.strip()\n",
        "df[df['방문목적_3'].str.contains('비즈니스', na=False)]"
      ],
      "metadata": {
        "id": "6pwQY0LtzzAW"
      },
      "execution_count": null,
      "outputs": []
    },
    {
      "cell_type": "code",
      "source": [
        "df['방문목적_3'] = df['방문목적_3'].apply(lambda x: '데이트' if isinstance(x, str) and '데이트' in x else x if pd.isnull(x) else x.strip())\n",
        "df['방문목적_3'] = df['방문목적_3'].apply(lambda x: '친목' if isinstance(x, str) and '친목' in x else x if pd.isnull(x) else x.strip())\n",
        "df['방문목적_3'] = df['방문목적_3'].apply(lambda x: '나들이' if isinstance(x, str) and '나들이' in x else x if pd.isnull(x) else x.strip())\n",
        "df['방문목적_3'] = df['방문목적_3'].apply(lambda x: '여행' if isinstance(x, str) and '여행' in x else x if pd.isnull(x) else x.strip())\n",
        "df['방문목적_3'] = df['방문목적_3'].apply(lambda x: '일상' if isinstance(x, str) and '일상' in x else x if pd.isnull(x) else x.strip())\n",
        "df['방문목적_3'] = df['방문목적_3'].apply(lambda x: '기념일' if isinstance(x, str) and '기념일' in x else x if pd.isnull(x) else x.strip())\n",
        "df['방문목적_3'] = df['방문목적_3'].apply(lambda x: '회식' if isinstance(x, str) and '회식' in x else x if pd.isnull(x) else x.strip())\n",
        "df['방문목적_3'] = df['방문목적_3'].apply(lambda x: '가족모임' if isinstance(x, str) and '가족모임' in x else x if pd.isnull(x) else x.strip())\n",
        "df['방문목적_3'] = df['방문목적_3'].apply(lambda x: '비즈니스' if isinstance(x, str) and '비즈니스' in x else x if pd.isnull(x) else x.strip())\n",
        "df['방문목적_3']"
      ],
      "metadata": {
        "id": "nFk_TpBSsant"
      },
      "execution_count": null,
      "outputs": []
    },
    {
      "cell_type": "code",
      "source": [
        "# '이용방법' 컬럼에서 지정된 값 외의 모든 값을 NaN으로 변경\n",
        "df['방문목적_3'] = np.where(df['방문목적_3'].isin(['데이트', '친목', '나들이', '여행', '일상', '기념일', '회식', '가족모임','비즈니스']),\n",
        "                         df['방문목적_3'], np.nan)\n",
        "df['방문목적_3']"
      ],
      "metadata": {
        "id": "3K0lrjbks03x"
      },
      "execution_count": null,
      "outputs": []
    },
    {
      "cell_type": "code",
      "source": [
        "df['방문목적_3'].unique()"
      ],
      "metadata": {
        "id": "MwpEqcDQs4TR"
      },
      "execution_count": null,
      "outputs": []
    },
    {
      "cell_type": "code",
      "source": [
        "df.loc[df['방문목적_3'].notnull(), 'reviews'] = df.loc[df['방문목적_3'].notnull(), 'reviews'].str.slice(start=3)\n",
        "df['방문목적_4'] = df.loc[df['방문목적_3'].notnull(), 'reviews'].str[:6]\n",
        "df['reviews'] = df['reviews'].str.lstrip()\n",
        "df['방문목적_4']"
      ],
      "metadata": {
        "id": "dSYuSBFjs7A6"
      },
      "execution_count": null,
      "outputs": []
    },
    {
      "cell_type": "code",
      "source": [
        "df[df['방문목적_4'].str.contains('여행', na=False)]"
      ],
      "metadata": {
        "id": "XKn-4HvIsAy8"
      },
      "execution_count": null,
      "outputs": []
    },
    {
      "cell_type": "code",
      "source": [
        "df['방문목적_4'] = df['방문목적_4'].str.lstrip()\n",
        "df['방문목적_4'] = df['방문목적_4'].apply(lambda x: '데이트' if isinstance(x, str) and '데이트' in x else x if pd.isnull(x) else x.strip())\n",
        "df['방문목적_4'] = df['방문목적_4'].apply(lambda x: '친목' if isinstance(x, str) and '친목' in x else x if pd.isnull(x) else x.strip())\n",
        "df['방문목적_4'] = df['방문목적_4'].apply(lambda x: '나들이' if isinstance(x, str) and '나들이' in x else x if pd.isnull(x) else x.strip())\n",
        "df['방문목적_4'] = df['방문목적_4'].apply(lambda x: '여행' if isinstance(x, str) and '여행' in x else x if pd.isnull(x) else x.strip())\n",
        "df['방문목적_4'] = df['방문목적_4'].apply(lambda x: '일상' if isinstance(x, str) and '일상' in x else x if pd.isnull(x) else x.strip())\n",
        "df['방문목적_4'] = df['방문목적_4'].apply(lambda x: '기념일' if isinstance(x, str) and '기념일' in x else x if pd.isnull(x) else x.strip())\n",
        "df['방문목적_4'] = df['방문목적_4'].apply(lambda x: '회식' if isinstance(x, str) and '회식' in x else x if pd.isnull(x) else x.strip())\n",
        "df['방문목적_4'] = df['방문목적_4'].apply(lambda x: '가족모임' if isinstance(x, str) and '가족모임' in x else x if pd.isnull(x) else x.strip())\n",
        "df['방문목적_4'] = df['방문목적_4'].apply(lambda x: '비즈니스' if isinstance(x, str) and '비즈니스' in x else x if pd.isnull(x) else x.strip())\n",
        "df['방문목적_4']"
      ],
      "metadata": {
        "id": "zxf5yXuS0zKR"
      },
      "execution_count": null,
      "outputs": []
    },
    {
      "cell_type": "code",
      "source": [
        "# '이용방법' 컬럼에서 지정된 값 외의 모든 값을 NaN으로 변경\n",
        "df['방문목적_4'] = np.where(df['방문목적_4'].isin(['데이트', '친목', '나들이', '여행', '일상', '기념일', '회식', '가족모임','비즈니스']),\n",
        "                         df['방문목적_4'], np.nan)\n",
        "df['방문목적_4'].unique()"
      ],
      "metadata": {
        "id": "zt9A16G15ZF1"
      },
      "execution_count": null,
      "outputs": []
    },
    {
      "cell_type": "code",
      "source": [
        "df.loc[df['방문목적_4'].notnull(), 'reviews'] = df.loc[df['방문목적_4'].notnull(), 'reviews'].str.slice(start=3)\n",
        "df['방문목적_5'] = df.loc[df['방문목적_4'].notnull(), 'reviews'].str[:6]\n",
        "df['reviews'] = df['reviews'].str.lstrip()\n",
        "df['방문목적_5'] = df['방문목적_5'].str.lstrip()\n",
        "df['방문목적_5'] = df['방문목적_5'].apply(lambda x: '데이트' if isinstance(x, str) and '데이트' in x else x if pd.isnull(x) else x.strip())\n",
        "df['방문목적_5'] = df['방문목적_5'].apply(lambda x: '친목' if isinstance(x, str) and '친목' in x else x if pd.isnull(x) else x.strip())\n",
        "df['방문목적_5'] = df['방문목적_5'].apply(lambda x: '나들이' if isinstance(x, str) and '나들이' in x else x if pd.isnull(x) else x.strip())\n",
        "df['방문목적_5'] = df['방문목적_5'].apply(lambda x: '여행' if isinstance(x, str) and '여행' in x else x if pd.isnull(x) else x.strip())\n",
        "df['방문목적_5'] = df['방문목적_5'].apply(lambda x: '일상' if isinstance(x, str) and '일상' in x else x if pd.isnull(x) else x.strip())\n",
        "df['방문목적_5'] = df['방문목적_5'].apply(lambda x: '기념일' if isinstance(x, str) and '기념일' in x else x if pd.isnull(x) else x.strip())\n",
        "df['방문목적_5'] = df['방문목적_5'].apply(lambda x: '회식' if isinstance(x, str) and '회식' in x else x if pd.isnull(x) else x.strip())\n",
        "df['방문목적_5'] = df['방문목적_5'].apply(lambda x: '가족모임' if isinstance(x, str) and '가족모임' in x else x if pd.isnull(x) else x.strip())\n",
        "df['방문목적_5'] = df['방문목적_5'].apply(lambda x: '비즈니스' if isinstance(x, str) and '비즈니스' in x else x if pd.isnull(x) else x.strip())\n",
        "\n",
        "# '이용방법' 컬럼에서 지정된 값 외의 모든 값을 NaN으로 변경\n",
        "df['방문목적_5'] = np.where(df['방문목적_5'].isin(['데이트', '친목', '나들이', '여행', '일상', '기념일', '회식', '가족모임','비즈니스']),\n",
        "                         df['방문목적_5'], np.nan)\n",
        "df['방문목적_5'].unique()"
      ],
      "metadata": {
        "id": "b2V2mJNb5bTx"
      },
      "execution_count": null,
      "outputs": []
    },
    {
      "cell_type": "code",
      "source": [
        "df.loc[df['방문목적_5'].notnull(), 'reviews'] = df.loc[df['방문목적_5'].notnull(), 'reviews'].str.slice(start=3)\n",
        "df['방문목적_6'] = df.loc[df['방문목적_5'].notnull(), 'reviews'].str[:6]\n",
        "df['reviews'] = df['reviews'].str.lstrip()\n",
        "df['방문목적_6'] = df['방문목적_6'].str.lstrip()\n",
        "df['방문목적_6'] = df['방문목적_6'].apply(lambda x: '데이트' if isinstance(x, str) and '데이트' in x else x if pd.isnull(x) else x.strip())\n",
        "df['방문목적_6'] = df['방문목적_6'].apply(lambda x: '친목' if isinstance(x, str) and '친목' in x else x if pd.isnull(x) else x.strip())\n",
        "df['방문목적_6'] = df['방문목적_6'].apply(lambda x: '나들이' if isinstance(x, str) and '나들이' in x else x if pd.isnull(x) else x.strip())\n",
        "df['방문목적_6'] = df['방문목적_6'].apply(lambda x: '여행' if isinstance(x, str) and '여행' in x else x if pd.isnull(x) else x.strip())\n",
        "df['방문목적_6'] = df['방문목적_6'].apply(lambda x: '일상' if isinstance(x, str) and '일상' in x else x if pd.isnull(x) else x.strip())\n",
        "df['방문목적_6'] = df['방문목적_6'].apply(lambda x: '기념일' if isinstance(x, str) and '기념일' in x else x if pd.isnull(x) else x.strip())\n",
        "df['방문목적_6'] = df['방문목적_6'].apply(lambda x: '회식' if isinstance(x, str) and '회식' in x else x if pd.isnull(x) else x.strip())\n",
        "df['방문목적_6'] = df['방문목적_6'].apply(lambda x: '가족모임' if isinstance(x, str) and '가족모임' in x else x if pd.isnull(x) else x.strip())\n",
        "df['방문목적_6'] = df['방문목적_6'].apply(lambda x: '비즈니스' if isinstance(x, str) and '비즈니스' in x else x if pd.isnull(x) else x.strip())\n",
        "\n",
        "# '이용방법' 컬럼에서 지정된 값 외의 모든 값을 NaN으로 변경\n",
        "df['방문목적_6'] = np.where(df['방문목적_6'].isin(['데이트', '친목', '나들이', '여행', '일상', '기념일', '회식', '가족모임','비즈니스']),\n",
        "                         df['방문목적_6'], np.nan)\n",
        "df['방문목적_6'].unique()"
      ],
      "metadata": {
        "id": "4kREDdz-5zTl"
      },
      "execution_count": null,
      "outputs": []
    },
    {
      "cell_type": "code",
      "source": [
        "df.loc[df['방문목적_6'].notnull(), 'reviews'] = df.loc[df['방문목적_6'].notnull(), 'reviews'].str.slice(start=3)\n",
        "df['방문목적_7'] = df.loc[df['방문목적_6'].notnull(), 'reviews'].str[:6]\n",
        "df['reviews'] = df['reviews'].str.lstrip()\n",
        "df['방문목적_7'] = df['방문목적_7'].str.lstrip()\n",
        "df['방문목적_7'] = df['방문목적_7'].apply(lambda x: '데이트' if isinstance(x, str) and '데이트' in x else x if pd.isnull(x) else x.strip())\n",
        "df['방문목적_7'] = df['방문목적_7'].apply(lambda x: '친목' if isinstance(x, str) and '친목' in x else x if pd.isnull(x) else x.strip())\n",
        "df['방문목적_7'] = df['방문목적_7'].apply(lambda x: '나들이' if isinstance(x, str) and '나들이' in x else x if pd.isnull(x) else x.strip())\n",
        "df['방문목적_7'] = df['방문목적_7'].apply(lambda x: '여행' if isinstance(x, str) and '여행' in x else x if pd.isnull(x) else x.strip())\n",
        "df['방문목적_7'] = df['방문목적_7'].apply(lambda x: '일상' if isinstance(x, str) and '일상' in x else x if pd.isnull(x) else x.strip())\n",
        "df['방문목적_7'] = df['방문목적_7'].apply(lambda x: '기념일' if isinstance(x, str) and '기념일' in x else x if pd.isnull(x) else x.strip())\n",
        "df['방문목적_7'] = df['방문목적_7'].apply(lambda x: '회식' if isinstance(x, str) and '회식' in x else x if pd.isnull(x) else x.strip())\n",
        "df['방문목적_7'] = df['방문목적_7'].apply(lambda x: '가족모임' if isinstance(x, str) and '가족모임' in x else x if pd.isnull(x) else x.strip())\n",
        "df['방문목적_7'] = df['방문목적_7'].apply(lambda x: '비즈니스' if isinstance(x, str) and '비즈니스' in x else x if pd.isnull(x) else x.strip())\n",
        "\n",
        "# '이용방법' 컬럼에서 지정된 값 외의 모든 값을 NaN으로 변경\n",
        "df['방문목적_7'] = np.where(df['방문목적_7'].isin(['데이트', '친목', '나들이', '여행', '일상', '기념일', '회식', '가족모임','비즈니스']),\n",
        "                         df['방문목적_7'], np.nan)\n",
        "df['방문목적_7'].unique()"
      ],
      "metadata": {
        "id": "pQGlJSDj5__C"
      },
      "execution_count": null,
      "outputs": []
    },
    {
      "cell_type": "code",
      "source": [
        "df.loc[df['방문목적_7'].notnull(), 'reviews'] = df.loc[df['방문목적_7'].notnull(), 'reviews'].str.slice(start=3)\n",
        "df['방문목적_8'] = df.loc[df['방문목적_7'].notnull(), 'reviews'].str[:6]\n",
        "df['reviews'] = df['reviews'].str.lstrip()\n",
        "df['방문목적_8'] = df['방문목적_8'].str.lstrip()\n",
        "df['방문목적_8'] = df['방문목적_8'].apply(lambda x: '데이트' if isinstance(x, str) and '데이트' in x else x if pd.isnull(x) else x.strip())\n",
        "df['방문목적_8'] = df['방문목적_8'].apply(lambda x: '친목' if isinstance(x, str) and '친목' in x else x if pd.isnull(x) else x.strip())\n",
        "df['방문목적_8'] = df['방문목적_8'].apply(lambda x: '나들이' if isinstance(x, str) and '나들이' in x else x if pd.isnull(x) else x.strip())\n",
        "df['방문목적_8'] = df['방문목적_8'].apply(lambda x: '여행' if isinstance(x, str) and '여행' in x else x if pd.isnull(x) else x.strip())\n",
        "df['방문목적_8'] = df['방문목적_8'].apply(lambda x: '일상' if isinstance(x, str) and '일상' in x else x if pd.isnull(x) else x.strip())\n",
        "df['방문목적_8'] = df['방문목적_8'].apply(lambda x: '기념일' if isinstance(x, str) and '기념일' in x else x if pd.isnull(x) else x.strip())\n",
        "df['방문목적_8'] = df['방문목적_8'].apply(lambda x: '회식' if isinstance(x, str) and '회식' in x else x if pd.isnull(x) else x.strip())\n",
        "df['방문목적_8'] = df['방문목적_8'].apply(lambda x: '가족모임' if isinstance(x, str) and '가족모임' in x else x if pd.isnull(x) else x.strip())\n",
        "df['방문목적_8'] = df['방문목적_8'].apply(lambda x: '비즈니스' if isinstance(x, str) and '비즈니스' in x else x if pd.isnull(x) else x.strip())\n",
        "\n",
        "# '이용방법' 컬럼에서 지정된 값 외의 모든 값을 NaN으로 변경\n",
        "df['방문목적_8'] = np.where(df['방문목적_8'].isin(['데이트', '친목', '나들이', '여행', '일상', '기념일', '회식', '가족모임','비즈니스']),\n",
        "                         df['방문목적_8'], np.nan)\n",
        "df['방문목적_8'].unique()\n",
        "df[df['방문목적_8'].notnull()]"
      ],
      "metadata": {
        "id": "4Bjw-AtE6GoH"
      },
      "execution_count": null,
      "outputs": []
    },
    {
      "cell_type": "code",
      "source": [
        "df.loc[df['방문목적_8'].notnull(), 'reviews'] = df.loc[df['방문목적_8'].notnull(), 'reviews'].str.slice(start=3)\n",
        "df['방문목적_9'] = df.loc[df['방문목적_8'].notnull(), 'reviews'].str[:6]\n",
        "df['reviews'] = df['reviews'].str.lstrip()\n",
        "df['방문목적_9'] = df['방문목적_9'].str.lstrip()\n",
        "df['방문목적_9'] = df['방문목적_9'].apply(lambda x: '데이트' if isinstance(x, str) and '데이트' in x else x if pd.isnull(x) else x.strip())\n",
        "df['방문목적_9'] = df['방문목적_9'].apply(lambda x: '친목' if isinstance(x, str) and '친목' in x else x if pd.isnull(x) else x.strip())\n",
        "df['방문목적_9'] = df['방문목적_9'].apply(lambda x: '나들이' if isinstance(x, str) and '나들이' in x else x if pd.isnull(x) else x.strip())\n",
        "df['방문목적_9'] = df['방문목적_9'].apply(lambda x: '여행' if isinstance(x, str) and '여행' in x else x if pd.isnull(x) else x.strip())\n",
        "df['방문목적_9'] = df['방문목적_9'].apply(lambda x: '일상' if isinstance(x, str) and '일상' in x else x if pd.isnull(x) else x.strip())\n",
        "df['방문목적_9'] = df['방문목적_9'].apply(lambda x: '기념일' if isinstance(x, str) and '기념일' in x else x if pd.isnull(x) else x.strip())\n",
        "df['방문목적_9'] = df['방문목적_9'].apply(lambda x: '회식' if isinstance(x, str) and '회식' in x else x if pd.isnull(x) else x.strip())\n",
        "df['방문목적_9'] = df['방문목적_9'].apply(lambda x: '가족모임' if isinstance(x, str) and '가족모임' in x else x if pd.isnull(x) else x.strip())\n",
        "df['방문목적_9'] = df['방문목적_9'].apply(lambda x: '비즈니스' if isinstance(x, str) and '비즈니스' in x else x if pd.isnull(x) else x.strip())\n",
        "\n",
        "# '이용방법' 컬럼에서 지정된 값 외의 모든 값을 NaN으로 변경\n",
        "df['방문목적_9'] = np.where(df['방문목적_9'].isin(['데이트', '친목', '나들이', '여행', '일상', '기념일', '회식', '가족모임','비즈니스']),\n",
        "                         df['방문목적_9'], np.nan)\n",
        "df['방문목적_9'].unique()\n",
        "df[df['방문목적_9'].notnull()]"
      ],
      "metadata": {
        "id": "ofe8BJ9t6pOK"
      },
      "execution_count": null,
      "outputs": []
    },
    {
      "cell_type": "code",
      "source": [
        "df.loc[df['방문목적_9'].notnull(), 'reviews'] = df.loc[df['방문목적_9'].notnull(), 'reviews'].str.slice(start=3)"
      ],
      "metadata": {
        "id": "kT8XYkp_B82i"
      },
      "execution_count": null,
      "outputs": []
    },
    {
      "cell_type": "code",
      "source": [
        "df.head()"
      ],
      "metadata": {
        "id": "SRiMOqwY60qs"
      },
      "execution_count": null,
      "outputs": []
    },
    {
      "cell_type": "markdown",
      "source": [
        "동행자 (중복가능)\n",
        "연인・배우자 / 친구 / 지인・동료 / 혼자 / 아이 / 부모님 / 반려동물 / 친척・형제 / 기타"
      ],
      "metadata": {
        "id": "yebtxlrL6-RI"
      }
    },
    {
      "cell_type": "code",
      "source": [
        "df.loc[df['reviews'].str.startswith('임 ', na=False), 'reviews'] = df['reviews'].str.lstrip('임 ')"
      ],
      "metadata": {
        "id": "5ObyUrwfCwpX"
      },
      "execution_count": null,
      "outputs": []
    },
    {
      "cell_type": "code",
      "source": [
        "df.loc[df['reviews'].str.startswith('스 ', na=False), 'reviews'] = df['reviews'].str.lstrip('스 ')"
      ],
      "metadata": {
        "id": "CttKSNVNDGKv"
      },
      "execution_count": null,
      "outputs": []
    },
    {
      "cell_type": "code",
      "source": [
        "df.loc[df['reviews'].str.startswith('일 ', na=False), 'reviews'] = df['reviews'].str.lstrip('일 ')\n",
        "df.loc[df['reviews'].str.startswith('식 ', na=False), 'reviews'] = df['reviews'].str.lstrip('식 ')\n",
        "df.loc[df['reviews'].str.startswith('이 ', na=False), 'reviews'] = df['reviews'].str.lstrip('이 ')\n",
        "df.loc[df['reviews'].str.startswith('행 ', na=False), 'reviews'] = df['reviews'].str.lstrip('행 ')\n",
        "df.loc[df['reviews'].str.startswith('상 ', na=False), 'reviews'] = df['reviews'].str.lstrip('상 ')"
      ],
      "metadata": {
        "id": "ql90xEfhD_3q"
      },
      "execution_count": null,
      "outputs": []
    },
    {
      "cell_type": "code",
      "source": [
        "df[df['reviews'].str.startswith('일 ', na=False)]\n",
        "df[df['reviews'].str.startswith('식 ', na=False)]\n",
        "df[df['reviews'].str.startswith('이 ', na=False)]\n",
        "df[df['reviews'].str.startswith('행 ', na=False)]\n",
        "df[df['reviews'].str.startswith('상 ', na=False)]\n",
        "\n"
      ],
      "metadata": {
        "id": "7VJsBfk_DbYV"
      },
      "execution_count": null,
      "outputs": []
    },
    {
      "cell_type": "code",
      "source": [
        "df['reviews'] = df['reviews'].str.lstrip()"
      ],
      "metadata": {
        "id": "6qh61QI_EKWd"
      },
      "execution_count": null,
      "outputs": []
    },
    {
      "cell_type": "code",
      "source": [
        "df['reviews'] = df['reviews'].str.replace('연인・배우자', '연인')\n",
        "df['reviews'] = df['reviews'].str.replace('지인・동료', '지인')\n",
        "df['reviews'] = df['reviews'].str.replace('친척・형제', '친척')\n",
        "df['reviews'] = df['reviews'].str.replace('반려동물', '반려')\n",
        "df['reviews']"
      ],
      "metadata": {
        "id": "givT6CnLAuJv"
      },
      "execution_count": null,
      "outputs": []
    },
    {
      "cell_type": "code",
      "source": [
        "df['reviews'] = df['reviews'].str.lstrip()\n",
        "df['동행자'] = df['reviews'].str[:4]\n",
        "df['동행자']"
      ],
      "metadata": {
        "id": "wkv5XDjS61ge"
      },
      "execution_count": null,
      "outputs": []
    },
    {
      "cell_type": "code",
      "source": [
        "df[df['동행자'].str.contains(\"반려 \",na=False)]"
      ],
      "metadata": {
        "id": "afeJVwkf7RQr"
      },
      "execution_count": null,
      "outputs": []
    },
    {
      "cell_type": "markdown",
      "source": [
        "연인・배우자 / 친구 / 지인・동료 / 혼자 / 아이 / 부모님 / 반려동물 / 친척・형제 / 기타"
      ],
      "metadata": {
        "id": "9PxuvUwz8dFH"
      }
    },
    {
      "cell_type": "code",
      "source": [
        "df['reviews'] = df['reviews'].str.lstrip()\n",
        "df['동행자'] = df['동행자'].str.strip()\n",
        "df['동행자'] = df['동행자'].apply(lambda x: '연인・배우자' if x.startswith('연인') else x.strip())\n",
        "df['동행자'] = df['동행자'].apply(lambda x: '친구' if x.startswith('친구') else x.strip())\n",
        "df['동행자'] = df['동행자'].apply(lambda x: '지인・동료' if x.startswith('지인') else x.strip())\n",
        "df['동행자'] = df['동행자'].apply(lambda x: '혼자' if x.startswith('혼자') else x.strip())\n",
        "df['동행자'] = df['동행자'].apply(lambda x: '아이' if x.startswith('아이') else x.strip())\n",
        "df['동행자'] = df['동행자'].apply(lambda x: '부모님' if x.startswith('부모님') else x.strip())\n",
        "df['동행자'] = df['동행자'].apply(lambda x: '반려동물' if x.startswith('반려') else x.strip())\n",
        "df['동행자'] = df['동행자'].apply(lambda x: '친척・형제' if x.startswith('친척') else x.strip())\n",
        "df['동행자'] = df['동행자'].apply(lambda x: '기타' if x.startswith('기타') else x.strip())\n",
        "df['동행자']"
      ],
      "metadata": {
        "id": "0QbRP8FA7Xqq"
      },
      "execution_count": null,
      "outputs": []
    },
    {
      "cell_type": "code",
      "source": [
        "df['동행자'] = np.where(df['동행자'].isin(['연인・배우자', '친구', '지인・동료', '혼자', '아이', '부모님', '반려동물', '친척・형제','기타']),\n",
        "                         df['동행자'], np.nan)\n",
        "df['동행자'].unique()"
      ],
      "metadata": {
        "id": "f6MAbWb_8yqt"
      },
      "execution_count": null,
      "outputs": []
    },
    {
      "cell_type": "code",
      "source": [
        "df['reviews'] = df['reviews'].str.lstrip()\n",
        "df['동행자'] = df['동행자'].str.strip()\n",
        "df.loc[df['동행자'].notnull(), 'reviews'] = df.loc[df['동행자'].notnull(), 'reviews'].str.slice(start=3)\n",
        "df['동행자_2'] = df.loc[df['동행자'].notnull(), 'reviews'].str[:4]\n",
        "df['reviews'] = df['reviews'].str.lstrip()\n",
        "df['동행자_2'] = df['동행자_2'].str.lstrip()\n",
        "df['동행자_2'] = df['동행자_2'].apply(lambda x: '연인・배우자' if isinstance(x, str) and '연인' in x else x if pd.isnull(x) else x.strip())\n",
        "df['동행자_2'] = df['동행자_2'].apply(lambda x: '친구' if isinstance(x, str) and '친구' in x else x if pd.isnull(x) else x.strip())\n",
        "df['동행자_2'] = df['동행자_2'].apply(lambda x: '지인・동료' if isinstance(x, str) and '지인' in x else x if pd.isnull(x) else x.strip())\n",
        "df['동행자_2'] = df['동행자_2'].apply(lambda x: '혼자' if isinstance(x, str) and '혼자' in x else x if pd.isnull(x) else x.strip())\n",
        "df['동행자_2'] = df['동행자_2'].apply(lambda x: '아이' if isinstance(x, str) and '아이' in x else x if pd.isnull(x) else x.strip())\n",
        "df['동행자_2'] = df['동행자_2'].apply(lambda x: '부모님' if isinstance(x, str) and '부모님' in x else x if pd.isnull(x) else x.strip())\n",
        "df['동행자_2'] = df['동행자_2'].apply(lambda x: '반려동물' if isinstance(x, str) and '반려' in x else x if pd.isnull(x) else x.strip())\n",
        "df['동행자_2'] = df['동행자_2'].apply(lambda x: '친척・형제' if isinstance(x, str) and '친척' in x else x if pd.isnull(x) else x.strip())\n",
        "df['동행자_2'] = df['동행자_2'].apply(lambda x: '기타' if isinstance(x, str) and '기타' in x else x if pd.isnull(x) else x.strip())\n",
        "\n",
        "# '이용방법' 컬럼에서 지정된 값 외의 모든 값을 NaN으로 변경\n",
        "df['동행자_2'] = np.where(df['동행자_2'].isin(['연인・배우자', '친구', '지인・동료', '혼자', '아이', '부모님', '반려동물', '친척・형제','기타']),\n",
        "                         df['동행자_2'], np.nan)\n",
        "df['동행자_2'].unique()\n",
        "df[df['동행자_2'].notnull()]"
      ],
      "metadata": {
        "id": "YAd0TzEi9DKN"
      },
      "execution_count": null,
      "outputs": []
    },
    {
      "cell_type": "code",
      "source": [
        "df[df['동행자_2'].notnull()]"
      ],
      "metadata": {
        "id": "lWr2VqK7HEQL"
      },
      "execution_count": null,
      "outputs": []
    },
    {
      "cell_type": "code",
      "source": [
        "df['reviews'] = df['reviews'].str.lstrip()\n",
        "df['동행자_2'] = df['동행자_2'].str.strip()\n",
        "df.loc[df['동행자_2'].notnull(), 'reviews'] = df.loc[df['동행자_2'].notnull(), 'reviews'].str.slice(start=3)\n",
        "df['동행자_3'] = df.loc[df['동행자_2'].notnull(), 'reviews'].str[:4]\n",
        "df['reviews'] = df['reviews'].str.lstrip()\n",
        "df['동행자_3'] = df['동행자_3'].str.lstrip()\n",
        "df['동행자_3'] = df['동행자_3'].apply(lambda x: '연인・배우자' if isinstance(x, str) and '연인' in x else x if pd.isnull(x) else x.strip())\n",
        "df['동행자_3'] = df['동행자_3'].apply(lambda x: '친구' if isinstance(x, str) and '친구' in x else x if pd.isnull(x) else x.strip())\n",
        "df['동행자_3'] = df['동행자_3'].apply(lambda x: '지인・동료' if isinstance(x, str) and '지인' in x else x if pd.isnull(x) else x.strip())\n",
        "df['동행자_3'] = df['동행자_3'].apply(lambda x: '혼자' if isinstance(x, str) and '혼자' in x else x if pd.isnull(x) else x.strip())\n",
        "df['동행자_3'] = df['동행자_3'].apply(lambda x: '아이' if isinstance(x, str) and '아이' in x else x if pd.isnull(x) else x.strip())\n",
        "df['동행자_3'] = df['동행자_3'].apply(lambda x: '부모님' if isinstance(x, str) and '부모님' in x else x if pd.isnull(x) else x.strip())\n",
        "df['동행자_3'] = df['동행자_3'].apply(lambda x: '반려동물' if isinstance(x, str) and '반려' in x else x if pd.isnull(x) else x.strip())\n",
        "df['동행자_3'] = df['동행자_3'].apply(lambda x: '친척・형제' if isinstance(x, str) and '친척' in x else x if pd.isnull(x) else x.strip())\n",
        "df['동행자_3'] = df['동행자_3'].apply(lambda x: '기타' if isinstance(x, str) and '기타' in x else x if pd.isnull(x) else x.strip())\n",
        "\n",
        "# '이용방법' 컬럼에서 지정된 값 외의 모든 값을 NaN으로 변경\n",
        "df['동행자_3'] = np.where(df['동행자_3'].isin(['연인・배우자', '친구', '지인・동료', '혼자', '아이', '부모님', '반려동물', '친척・형제','기타']),\n",
        "                         df['동행자_3'], np.nan)\n",
        "df['동행자_3'].unique()\n",
        "df[df['동행자_3'].notnull()]"
      ],
      "metadata": {
        "id": "ANuZTpF1-J4V"
      },
      "execution_count": null,
      "outputs": []
    },
    {
      "cell_type": "code",
      "source": [
        "df['reviews'] = df['reviews'].str.lstrip()\n",
        "df['동행자_3'] = df['동행자_3'].str.strip()\n",
        "df.loc[df['동행자_3'].notnull(), 'reviews'] = df.loc[df['동행자_3'].notnull(), 'reviews'].str.slice(start=3)\n",
        "df['동행자_4'] = df.loc[df['동행자_3'].notnull(), 'reviews'].str[:4]\n",
        "df['reviews'] = df['reviews'].str.lstrip()\n",
        "df['동행자_4'] = df['동행자_4'].str.lstrip()\n",
        "df['동행자_4'] = df['동행자_4'].apply(lambda x: '연인・배우자' if isinstance(x, str) and '연인' in x else x if pd.isnull(x) else x.strip())\n",
        "df['동행자_4'] = df['동행자_4'].apply(lambda x: '친구' if isinstance(x, str) and '친구' in x else x if pd.isnull(x) else x.strip())\n",
        "df['동행자_4'] = df['동행자_4'].apply(lambda x: '지인・동료' if isinstance(x, str) and '지인' in x else x if pd.isnull(x) else x.strip())\n",
        "df['동행자_4'] = df['동행자_4'].apply(lambda x: '혼자' if isinstance(x, str) and '혼자' in x else x if pd.isnull(x) else x.strip())\n",
        "df['동행자_4'] = df['동행자_4'].apply(lambda x: '아이' if isinstance(x, str) and '아이' in x else x if pd.isnull(x) else x.strip())\n",
        "df['동행자_4'] = df['동행자_4'].apply(lambda x: '부모님' if isinstance(x, str) and '부모님' in x else x if pd.isnull(x) else x.strip())\n",
        "df['동행자_4'] = df['동행자_4'].apply(lambda x: '반려동물' if isinstance(x, str) and '반려' in x else x if pd.isnull(x) else x.strip())\n",
        "df['동행자_4'] = df['동행자_4'].apply(lambda x: '친척・형제' if isinstance(x, str) and '친척' in x else x if pd.isnull(x) else x.strip())\n",
        "df['동행자_4'] = df['동행자_4'].apply(lambda x: '기타' if isinstance(x, str) and '기타' in x else x if pd.isnull(x) else x.strip())\n",
        "\n",
        "# '이용방법' 컬럼에서 지정된 값 외의 모든 값을 NaN으로 변경\n",
        "df['동행자_4'] = np.where(df['동행자_4'].isin(['연인・배우자', '친구', '지인・동료', '혼자', '아이', '부모님', '반려동물', '친척・형제','기타']),\n",
        "                         df['동행자_4'], np.nan)\n",
        "df['동행자_4'].unique()\n",
        "df[df['동행자_4'].notnull()]"
      ],
      "metadata": {
        "id": "O5lQcDIY-Qj6"
      },
      "execution_count": null,
      "outputs": []
    },
    {
      "cell_type": "code",
      "source": [
        "df['reviews'] = df['reviews'].str.lstrip()\n",
        "df['동행자_4'] = df['동행자_4'].str.strip()\n",
        "df.loc[df['동행자_4'].notnull(), 'reviews'] = df.loc[df['동행자_4'].notnull(), 'reviews'].str.slice(start=3)\n",
        "df['동행자_5'] = df.loc[df['동행자_4'].notnull(), 'reviews'].str[:4]\n",
        "df['reviews'] = df['reviews'].str.lstrip()\n",
        "df['동행자_5'] = df['동행자_5'].str.lstrip()\n",
        "df['동행자_5'] = df['동행자_5'].apply(lambda x: '연인・배우자' if isinstance(x, str) and '연인' in x else x if pd.isnull(x) else x.strip())\n",
        "df['동행자_5'] = df['동행자_5'].apply(lambda x: '친구' if isinstance(x, str) and '친구' in x else x if pd.isnull(x) else x.strip())\n",
        "df['동행자_5'] = df['동행자_5'].apply(lambda x: '지인・동료' if isinstance(x, str) and '지인' in x else x if pd.isnull(x) else x.strip())\n",
        "df['동행자_5'] = df['동행자_5'].apply(lambda x: '혼자' if isinstance(x, str) and '혼자' in x else x if pd.isnull(x) else x.strip())\n",
        "df['동행자_5'] = df['동행자_5'].apply(lambda x: '아이' if isinstance(x, str) and '아이' in x else x if pd.isnull(x) else x.strip())\n",
        "df['동행자_5'] = df['동행자_5'].apply(lambda x: '부모님' if isinstance(x, str) and '부모님' in x else x if pd.isnull(x) else x.strip())\n",
        "df['동행자_5'] = df['동행자_5'].apply(lambda x: '반려동물' if isinstance(x, str) and '반려' in x else x if pd.isnull(x) else x.strip())\n",
        "df['동행자_5'] = df['동행자_5'].apply(lambda x: '친척・형제' if isinstance(x, str) and '친척' in x else x if pd.isnull(x) else x.strip())\n",
        "df['동행자_5'] = df['동행자_5'].apply(lambda x: '기타' if isinstance(x, str) and '기타' in x else x if pd.isnull(x) else x.strip())\n",
        "\n",
        "# '이용방법' 컬럼에서 지정된 값 외의 모든 값을 NaN으로 변경\n",
        "df['동행자_5'] = np.where(df['동행자_5'].isin(['연인・배우자', '친구', '지인・동료', '혼자', '아이', '부모님', '반려동물', '친척・형제','기타']),\n",
        "                         df['동행자_5'], np.nan)\n",
        "df['동행자_5'].unique()\n",
        "df[df['동행자_5'].notnull()]"
      ],
      "metadata": {
        "id": "zD-8XSLIIqHn"
      },
      "execution_count": null,
      "outputs": []
    },
    {
      "cell_type": "code",
      "source": [
        "df['reviews'] = df['reviews'].str.lstrip()\n",
        "df['동행자_5'] = df['동행자_5'].str.strip()\n",
        "df.loc[df['동행자_5'].notnull(), 'reviews'] = df.loc[df['동행자_5'].notnull(), 'reviews'].str.slice(start=3)\n",
        "df['동행자_6'] = df.loc[df['동행자_5'].notnull(), 'reviews'].str[:4]\n",
        "df['reviews'] = df['reviews'].str.lstrip()\n",
        "df['동행자_6'] = df['동행자_6'].str.lstrip()\n",
        "df['동행자_6'] = df['동행자_6'].apply(lambda x: '연인・배우자' if isinstance(x, str) and '연인' in x else x if pd.isnull(x) else x.strip())\n",
        "df['동행자_6'] = df['동행자_6'].apply(lambda x: '친구' if isinstance(x, str) and '친구' in x else x if pd.isnull(x) else x.strip())\n",
        "df['동행자_6'] = df['동행자_6'].apply(lambda x: '지인・동료' if isinstance(x, str) and '지인' in x else x if pd.isnull(x) else x.strip())\n",
        "df['동행자_6'] = df['동행자_6'].apply(lambda x: '혼자' if isinstance(x, str) and '혼자' in x else x if pd.isnull(x) else x.strip())\n",
        "df['동행자_6'] = df['동행자_6'].apply(lambda x: '아이' if isinstance(x, str) and '아이' in x else x if pd.isnull(x) else x.strip())\n",
        "df['동행자_6'] = df['동행자_6'].apply(lambda x: '부모님' if isinstance(x, str) and '부모님' in x else x if pd.isnull(x) else x.strip())\n",
        "df['동행자_6'] = df['동행자_6'].apply(lambda x: '반려동물' if isinstance(x, str) and '반려' in x else x if pd.isnull(x) else x.strip())\n",
        "df['동행자_6'] = df['동행자_6'].apply(lambda x: '친척・형제' if isinstance(x, str) and '친척' in x else x if pd.isnull(x) else x.strip())\n",
        "df['동행자_6'] = df['동행자_6'].apply(lambda x: '기타' if isinstance(x, str) and '기타' in x else x if pd.isnull(x) else x.strip())\n",
        "\n",
        "# '이용방법' 컬럼에서 지정된 값 외의 모든 값을 NaN으로 변경\n",
        "df['동행자_6'] = np.where(df['동행자_6'].isin(['연인・배우자', '친구', '지인・동료', '혼자', '아이', '부모님', '반려동물', '친척・형제','기타']),\n",
        "                         df['동행자_6'], np.nan)\n",
        "df['동행자_6'].unique()\n",
        "df[df['동행자_6'].notnull()]"
      ],
      "metadata": {
        "id": "6c-8cT8YI3dV"
      },
      "execution_count": null,
      "outputs": []
    },
    {
      "cell_type": "code",
      "source": [
        "# df['reviews'] = df['reviews'].str.lstrip()\n",
        "# df['동행자_6'] = df['동행자_6'].str.strip()\n",
        "# df.loc[df['동행자_6'].notnull(), 'reviews'] = df.loc[df['동행자_6'].notnull(), 'reviews'].str.slice(start=3)\n",
        "# df['동행자_7'] = df.loc[df['동행자_6'].notnull(), 'reviews'].str[:4]\n",
        "# df['reviews'] = df['reviews'].str.lstrip()\n",
        "# df['동행자_7'] = df['동행자_7'].str.lstrip()\n",
        "# df['동행자_7'] = df['동행자_7'].apply(lambda x: '연인・배우자' if isinstance(x, str) and '연인' in x else x if pd.isnull(x) else x.strip())\n",
        "# df['동행자_7'] = df['동행자_7'].apply(lambda x: '친구' if isinstance(x, str) and '친구' in x else x if pd.isnull(x) else x.strip())\n",
        "# df['동행자_7'] = df['동행자_7'].apply(lambda x: '지인・동료' if isinstance(x, str) and '지인' in x else x if pd.isnull(x) else x.strip())\n",
        "# df['동행자_7'] = df['동행자_7'].apply(lambda x: '혼자' if isinstance(x, str) and '혼자' in x else x if pd.isnull(x) else x.strip())\n",
        "# df['동행자_7'] = df['동행자_7'].apply(lambda x: '아이' if isinstance(x, str) and '아이' in x else x if pd.isnull(x) else x.strip())\n",
        "# df['동행자_7'] = df['동행자_7'].apply(lambda x: '부모님' if isinstance(x, str) and '부모님' in x else x if pd.isnull(x) else x.strip())\n",
        "# df['동행자_7'] = df['동행자_7'].apply(lambda x: '반려동물' if isinstance(x, str) and '반려' in x else x if pd.isnull(x) else x.strip())\n",
        "# df['동행자_7'] = df['동행자_7'].apply(lambda x: '친척・형제' if isinstance(x, str) and '친척' in x else x if pd.isnull(x) else x.strip())\n",
        "# df['동행자_7'] = df['동행자_7'].apply(lambda x: '기타' if isinstance(x, str) and '기타' in x else x if pd.isnull(x) else x.strip())\n",
        "\n",
        "# # '이용방법' 컬럼에서 지정된 값 외의 모든 값을 NaN으로 변경\n",
        "# df['동행자_7'] = np.where(df['동행자_7'].isin(['연인・배우자', '친구', '지인・동료', '혼자', '아이', '부모님', '반려동물', '친척・형제','기타']),\n",
        "#                          df['동행자_7'], np.nan)\n",
        "# df['동행자_7'].unique()\n",
        "# df[df['동행자_7'].notnull()]"
      ],
      "metadata": {
        "id": "7UetQJwNJCjp"
      },
      "execution_count": null,
      "outputs": []
    },
    {
      "cell_type": "code",
      "source": [
        "df.head()"
      ],
      "metadata": {
        "id": "H5zrOp2dJVlH"
      },
      "execution_count": null,
      "outputs": []
    },
    {
      "cell_type": "code",
      "source": [
        "df.to_csv('/content/drive/MyDrive/빅콘테스트/01.데이터수집 및 탐색/code/Crawling/예진/data/expanded_df2_gray_keyword.csv', index=0)"
      ],
      "metadata": {
        "id": "pu_DVeWNKujw"
      },
      "execution_count": null,
      "outputs": []
    },
    {
      "cell_type": "code",
      "source": [
        "df.columns"
      ],
      "metadata": {
        "id": "X6X_qwx2JW5e"
      },
      "execution_count": null,
      "outputs": []
    },
    {
      "cell_type": "code",
      "source": [
        "df['방문목적'] = df[['방문목적', '방문목적_2', '방문목적_3', '방문목적_4',\n",
        "                           '방문목적_5', '방문목적_6', '방문목적_7',\n",
        "                           '방문목적_8', '방문목적_9']].agg(lambda x: ', '.join(x.dropna()), axis=1)\n",
        "df['방문목적']"
      ],
      "metadata": {
        "id": "jeA116RmJq0Z"
      },
      "execution_count": null,
      "outputs": []
    },
    {
      "cell_type": "code",
      "source": [
        "df['동행자'] = df[['동행자', '동행자_2', '동행자_3',\n",
        "       '동행자_4', '동행자_5', '동행자_6']].agg(lambda x: ', '.join(x.dropna()), axis=1)\n",
        "df['동행자']"
      ],
      "metadata": {
        "id": "gFmEO0OGKQWY"
      },
      "execution_count": null,
      "outputs": []
    },
    {
      "cell_type": "code",
      "source": [
        "#컬럼 삭제\n",
        "df = df.drop(['방문목적_2', '방문목적_3', '방문목적_4',\n",
        "                           '방문목적_5', '방문목적_6', '방문목적_7',\n",
        "                           '방문목적_8', '방문목적_9',  '동행자_2', '동행자_3',\n",
        "       '동행자_4', '동행자_5', '동행자_6'], axis=1)"
      ],
      "metadata": {
        "id": "BnVjqbHaLdLf"
      },
      "execution_count": null,
      "outputs": []
    },
    {
      "cell_type": "code",
      "source": [
        "df.head()"
      ],
      "metadata": {
        "id": "1xouTuA3LyuC"
      },
      "execution_count": null,
      "outputs": []
    },
    {
      "cell_type": "code",
      "source": [
        "df['reviews']"
      ],
      "metadata": {
        "id": "8Y62rNI7L9MS"
      },
      "execution_count": null,
      "outputs": []
    },
    {
      "cell_type": "code",
      "source": [
        "df_exp = pd.read_csv('/content/drive/MyDrive/빅콘테스트/01.데이터수집 및 탐색/code/Crawling/예진/data/expanded_df2.csv')"
      ],
      "metadata": {
        "id": "1YkcTh3PME9x"
      },
      "execution_count": null,
      "outputs": []
    },
    {
      "cell_type": "code",
      "source": [
        "df_exp['reviews']"
      ],
      "metadata": {
        "id": "kf2fkrbhMSQ6"
      },
      "execution_count": null,
      "outputs": []
    },
    {
      "cell_type": "code",
      "source": [
        "df.to_csv('/content/drive/MyDrive/빅콘테스트/01.데이터수집 및 탐색/code/Crawling/예진/data/df2_exp_review_gray_keyword.csv', index=0)"
      ],
      "metadata": {
        "id": "DtnoqzjqMTqf"
      },
      "execution_count": null,
      "outputs": []
    }
  ]
}